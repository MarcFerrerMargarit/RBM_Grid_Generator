{
 "cells": [
  {
   "cell_type": "markdown",
   "metadata": {},
   "source": [
    "## PROBLEM DESCRIPTION"
   ]
  },
  {
   "cell_type": "markdown",
   "metadata": {},
   "source": [
    "The data we want to analyze is styles from a group of elements. In this case we had 4 styles so we want at least one machine for every one that it will be able to analyze the data an generate new data.\n",
    "\n",
    "So the data that we have is a set of vectors that's the output of the app that generate grids. This grids ara a composition of elements so the outuput will be a vector of id. Each grid had 48 elements and each element can have a maximum of 255 elements in it. But is not necessary to had that number, it can be possible to have less. \n",
    "\n",
    "<h4 align=\"center\">$[ x_1, x_2, x_3, ..., x_{48} ]$</h4> \n",
    "<h4 align=\"center\">$x_1 = [id_1,id_2,_id_3, ...,id_{255}]$</h4>\n",
    "\n",
    "Each element of the vector can have a different size from the others and the list of integers are the subcategories of style of the object that was placed in the grid. Each number is a different subcategory of style of the object placed previously.\n",
    "\n",
    "So the first objective is to descompose the input data, a vector which element is a vector of different size, to a list of vectors that will have de same length, 48, and one element in each position. So the main goal is to find the grid wich elements has more IDs so we can set the size of total vectors, $y$ that we need to descompose the data. In case that one element of the vector has lower IDs that the max we gonna put a $0$ as the null value for our data.\n",
    "\n",
    "<h4 align=\"center\">$input = [[id_1^1,id_2^1,_id_3^1, ...,id_{255}^1], [id_1^2,id_2^2,_id_3^2, ...,id_{255}^2], ..., [id_1^48,id_2^48,_id_3^48, ...,id_{255}^48]]$</h4> \n",
    "<h4 align=\"center\">$output = [[id_1^1, id_1^2,..., id_1^{48}],\n",
    "[id_2^1, id_2^2,..., id_2^{48}],..., [0,0,...,id_y^{48}]$</h4> \n",
    "\n",
    "\n",
    "First of all we gonna implement a function that allows us to obtain the max value of the input data."
   ]
  },
  {
   "cell_type": "code",
   "execution_count": null,
   "metadata": {
    "collapsed": true
   },
   "outputs": [],
   "source": [
    "import random\n",
    "import numpy as np"
   ]
  },
  {
   "cell_type": "code",
   "execution_count": null,
   "metadata": {
    "collapsed": true
   },
   "outputs": [],
   "source": [
    "import numpy as np\n",
    "def generate_data_fake(): \n",
    "    vec = [] \n",
    "    for i in range(1000): \n",
    "        tmp = [] \n",
    "        for k in range(48): \n",
    "            tmp.append([0,2]) \n",
    "        vec.append(tmp) \n",
    "    return np.asarray(vec) \n",
    "\n",
    "def getMaxLengthForElements(vector):\n",
    "    maxLength = 0\n",
    "    for i in range(len(vector)):\n",
    "        tmp = vector[i]\n",
    "        for j in range(len(tmp)):\n",
    "            if(len(tmp[j])>maxLength):\n",
    "                maxLength = len(tmp[j])\n",
    "    return maxLength\n",
    "                \n",
    "# testVector = [[1],[1,2,3],[3,4,3,3]]\n",
    "testVector = generate_data_fake()\n",
    "# for i in range(500):\n",
    "#     testVector[i][0:24] = 2\n",
    "print(getMaxLengthForElements(testVector))"
   ]
  },
  {
   "cell_type": "markdown",
   "metadata": {
    "collapsed": true
   },
   "source": [
    "Now we got the max length that will be the number of ouput vectors that we wanna obtain from the input. Now we need to transform the input data to the output data format. For now we gonna tet with a test vector."
   ]
  },
  {
   "cell_type": "code",
   "execution_count": null,
   "metadata": {
    "collapsed": true
   },
   "outputs": [],
   "source": [
    "maxLength = getMaxLengthForElements(testVector)\n",
    "def transformInputVector(vector, maxLength):\n",
    "    output = []\n",
    "    for i in range(len(vector)):\n",
    "        v = vector[i]\n",
    "        for j in range(maxLength):\n",
    "            tmp = []\n",
    "            for k in range(len(v)):\n",
    "                if(len(v[k]) < maxLength):\n",
    "                    tmp.append(0)\n",
    "                else:\n",
    "                    tmp.append(v[k][j])\n",
    "            output.append(tmp)\n",
    "    return output\n",
    "output_vector = transformInputVector(testVector,maxLength)"
   ]
  },
  {
   "cell_type": "markdown",
   "metadata": {},
   "source": [
    "At this poing we have the data formatted ready for the input for the machine. In this case we gonna use the algorithm of the library sklearn, BernoulliRBM. Also we gonna use the implementation of One Hot Vector to transform our data to One Hot Vectors.\n",
    "\n",
    "http://scikit-learn.org/stable/modules/generated/sklearn.neural_network.BernoulliRBM.html\n",
    "\n",
    "http://scikit-learn.org/stable/modules/generated/sklearn.preprocessing.OneHotEncoder.html\n",
    "\n",
    "Now the first step to get the data in the machine is to convert all the data we formatted to one hot vectors. A one hot vector is a vector which is is a group of bits among which the legal combinations of values are only those with a single high (1) bit and all the others low (0)."
   ]
  },
  {
   "cell_type": "code",
   "execution_count": null,
   "metadata": {
    "collapsed": true
   },
   "outputs": [],
   "source": [
    "from sklearn.preprocessing import OneHotEncoder\n",
    "from sklearn.neural_network import BernoulliRBM\n",
    "import numpy as np"
   ]
  },
  {
   "cell_type": "code",
   "execution_count": null,
   "metadata": {
    "collapsed": true
   },
   "outputs": [],
   "source": [
    "oneHotEncoder = OneHotEncoder(255, sparse=True).fit(output_vector)\n",
    "oneHotData = oneHotEncoder.transform(output_vector)\n",
    "print(oneHotData)"
   ]
  },
  {
   "cell_type": "markdown",
   "metadata": {},
   "source": [
    "At this point we have 3 hot vectors which one represents the previous input data. This is a sparse matrix so is fastest to work than a simple vector and it's easy to show the results.\n",
    "Then we neeed to define the parameters of the machine and fit it with de one hot vectors we had. The parameters are not specified, so we need to try whichc are the best to obtain good results"
   ]
  },
  {
   "cell_type": "code",
   "execution_count": null,
   "metadata": {
    "collapsed": true,
    "scrolled": true
   },
   "outputs": [],
   "source": [
    "RBM_Machine = BernoulliRBM(n_components=500, learning_rate=0.01, n_iter=20, random_state=0, verbose=True)\n",
    "RBM_Machine.fit(oneHotData)"
   ]
  },
  {
   "cell_type": "code",
   "execution_count": null,
   "metadata": {
    "collapsed": true
   },
   "outputs": [],
   "source": [
    "x_visible = RBM_Machine.gibbs(oneHotData[55])\n",
    "x_visible = x_visible.ravel()\n",
    "final_vector = []\n",
    "for k in range(len(x_visible)):\n",
    "    if(x_visible[k] == True):\n",
    "        final_vector.append(1)\n",
    "    else:\n",
    "        final_vector.append(0)\n",
    "final_Data = []\n",
    "for i in range(48):\n",
    "    tmp = final_vector[(255*i):((i+1)*255)]\n",
    "    if(1 not in tmp):\n",
    "        index = 0\n",
    "    else:\n",
    "        index = tmp.index(1)\n",
    "    final_Data.append(index)\n",
    "print (final_Data)"
   ]
  },
  {
   "cell_type": "markdown",
   "metadata": {
    "collapsed": true
   },
   "source": [
    "### OWN RBM IMPLEMENTATION"
   ]
  },
  {
   "cell_type": "code",
   "execution_count": null,
   "metadata": {
    "collapsed": true
   },
   "outputs": [],
   "source": [
    "import sys\n",
    "import os\n",
    "import inspect\n",
    "currentdir = os.path.dirname(os.path.abspath(inspect.getfile(inspect.currentframe())))\n",
    "parent =  currentdir + '\\RBM'\n",
    "sys.path.insert(0,parent)\n",
    "%reload_ext autoreload\n",
    "%autoreload 2\n",
    "%matplotlib inline\n",
    "from timeit import default_timer as timer\n",
    "import numpy as np\n",
    "import time\n",
    "import matplotlib.pyplot as plt\n",
    "import numexpr  as ne\n",
    "import profile\n",
    "import rbm as Rbm\n",
    "import pandas\n",
    "from random import randint"
   ]
  },
  {
   "cell_type": "code",
   "execution_count": null,
   "metadata": {
    "collapsed": true
   },
   "outputs": [],
   "source": [
    "maxLength = getMaxLengthForElements(testVector)\n",
    "print(maxLength)\n",
    "output_vector = transformInputVector(testVector,maxLength)\n",
    "oneHotEncoder = OneHotEncoder(255, sparse=False).fit(output_vector)\n",
    "oneHotData = oneHotEncoder.transform(output_vector)"
   ]
  },
  {
   "cell_type": "code",
   "execution_count": null,
   "metadata": {
    "collapsed": true
   },
   "outputs": [],
   "source": [
    "visible_dim = oneHotData.shape[1]\n",
    "hidden_dim = 500\n",
    "epochs = 100\n",
    "K = 1\n",
    "lr = 0.1\n",
    "batch_size = 10"
   ]
  },
  {
   "cell_type": "code",
   "execution_count": null,
   "metadata": {
    "collapsed": true
   },
   "outputs": [],
   "source": [
    "rbm_ = Rbm.RBM(visible_dim=visible_dim,\n",
    "               hidden_dim=hidden_dim,\n",
    "               seed=42,\n",
    "               mu=0, \n",
    "               sigma=0.3,\n",
    "               monitor_time=True)\n",
    "rbm_.W.shape, rbm_.b.shape, rbm_"
   ]
  },
  {
   "cell_type": "code",
   "execution_count": null,
   "metadata": {
    "collapsed": true
   },
   "outputs": [],
   "source": [
    "test_Data_Vector_Aux = np.array(oneHotData, dtype=\"float64\")"
   ]
  },
  {
   "cell_type": "code",
   "execution_count": null,
   "metadata": {
    "collapsed": true
   },
   "outputs": [],
   "source": [
    "# %%time\n",
    "# rbm_.fit(test_Data_Vector_Aux, \n",
    "#          method='CDK',\n",
    "#          K=K,\n",
    "#          lr=lr,\n",
    "#          epochs=1,\n",
    "#          batch_size=128,\n",
    "#          plot_weights=False)"
   ]
  },
  {
   "cell_type": "code",
   "execution_count": null,
   "metadata": {
    "collapsed": true
   },
   "outputs": [],
   "source": [
    "%%time\n",
    "rbm_.fit(test_Data_Vector_Aux, \n",
    "         method='vectorized_CDK',\n",
    "         K=K,\n",
    "         lr=0.01,\n",
    "         epochs=1,\n",
    "         batch_size=128,\n",
    "         plot_weights=False)"
   ]
  },
  {
   "cell_type": "code",
   "execution_count": null,
   "metadata": {
    "collapsed": true
   },
   "outputs": [],
   "source": [
    "rbm_ = Rbm.RBM(visible_dim=visible_dim,\n",
    "               hidden_dim=hidden_dim,\n",
    "               seed=42,\n",
    "               mu=0, \n",
    "               sigma=0.3,\n",
    "               monitor_time=True)"
   ]
  },
  {
   "cell_type": "code",
   "execution_count": null,
   "metadata": {
    "collapsed": true
   },
   "outputs": [],
   "source": [
    "%%time\n",
    "rbm_.fit(test_Data_Vector_Aux, \n",
    "         method='vectorized_CDK',\n",
    "         K=K,\n",
    "         lr=0.01,\n",
    "         epochs=100,\n",
    "         batch_size=64,\n",
    "         plot_weights=False)"
   ]
  },
  {
   "cell_type": "code",
   "execution_count": null,
   "metadata": {
    "collapsed": true
   },
   "outputs": [],
   "source": [
    "x_hat, x_hat_p = rbm_.sample_visible_from_visible(oneHotData[0])"
   ]
  },
  {
   "cell_type": "code",
   "execution_count": null,
   "metadata": {
    "collapsed": true
   },
   "outputs": [],
   "source": [
    "final_vector = []\n",
    "for k in range(len(x_hat)):\n",
    "    if(x_hat[k] == True):\n",
    "        final_vector.append(1)\n",
    "    else:\n",
    "        final_vector.append(0)\n",
    "final_Data = []\n",
    "for i in range(48):\n",
    "    tmp = final_vector[(255*i):((i+1)*255)]\n",
    "    if(1 not in tmp):\n",
    "        index = 0\n",
    "    else:\n",
    "        index = tmp.index(1)\n",
    "    final_Data.append(index)\n",
    "print (final_Data)"
   ]
  },
  {
   "cell_type": "markdown",
   "metadata": {},
   "source": [
    "### POPULAR MODERN"
   ]
  },
  {
   "cell_type": "code",
   "execution_count": 1,
   "metadata": {
    "collapsed": true
   },
   "outputs": [],
   "source": [
    "import pandas as pd\n",
    "import json\n",
    "import sys\n",
    "import os\n",
    "import inspect\n",
    "currentdir = os.path.dirname(os.path.abspath(inspect.getfile(inspect.currentframe())))\n",
    "parent =  currentdir + '\\RBM'\n",
    "sys.path.insert(0,parent)\n",
    "%reload_ext autoreload\n",
    "%autoreload 2\n",
    "%matplotlib inline\n",
    "from timeit import default_timer as timer\n",
    "import numpy as np\n",
    "import time\n",
    "import matplotlib.pyplot as plt\n",
    "import numexpr  as ne\n",
    "import profile\n",
    "import rbm as Rbm\n",
    "import pandas\n",
    "from random import randint\n",
    "import random\n",
    "import numpy as np\n",
    "from sklearn.preprocessing import OneHotEncoder\n",
    "from sklearn.neural_network import BernoulliRBM"
   ]
  },
  {
   "cell_type": "code",
   "execution_count": 2,
   "metadata": {},
   "outputs": [],
   "source": [
    "def getMaxLengthForElements(vector):\n",
    "    maxLength = 0\n",
    "    for i in range(len(vector)):\n",
    "        tmp = vector[i]\n",
    "        for j in range(len(tmp)):\n",
    "            if(len(tmp[j])>maxLength):\n",
    "                maxLength = len(tmp[j])\n",
    "    return maxLength\n",
    "\n",
    "def transformInputVector(vector, maxLength, length):\n",
    "    output = []\n",
    "    for i in range(length):\n",
    "        v = vector[i]\n",
    "        for j in range(maxLength):\n",
    "            tmp = []\n",
    "            length_v = len(v)\n",
    "            for k in range(length_v):\n",
    "                if(j >= len(v[k])):\n",
    "                    tmp.append(0)\n",
    "                else:\n",
    "                    tmp.append(v[k][j])\n",
    "            output.append(tmp)\n",
    "    return output"
   ]
  },
  {
   "cell_type": "code",
   "execution_count": 6,
   "metadata": {
    "scrolled": true
   },
   "outputs": [
    {
     "name": "stdout",
     "output_type": "stream",
     "text": [
      "(6432, 48)\n"
     ]
    }
   ],
   "source": [
    "vector_data = pd.read_json('./Data.json')\n",
    "A = vector_data.values\n",
    "data_modern = []\n",
    "A = A.ravel()\n",
    "length_vectors = len(A)\n",
    "for i in range(A.shape[0]):\n",
    "    len_v = len(A[i])\n",
    "    tmp = []\n",
    "    for j in range(len_v):\n",
    "        tmp.append(A[i][j])\n",
    "    tmp = np.asarray(tmp).ravel()\n",
    "    data_modern.append(tmp)\n",
    "data_modern = np.asarray(data_modern)\n",
    "input_data = []\n",
    "input_data.append(data_modern)\n",
    "input_data = np.asarray(input_data)\n",
    "max_elements = getMaxLengthForElements(input_data[0])\n",
    "f_data = transformInputVector(input_data[0], max_elements, length_vectors)\n",
    "for i in range(200):\n",
    "    for k in range(32):\n",
    "        f_data.append(f_data[k])\n",
    "f_data = np.asarray(f_data)\n",
    "print(f_data.shape)"
   ]
  },
  {
   "cell_type": "code",
   "execution_count": 8,
   "metadata": {},
   "outputs": [],
   "source": [
    "oneHotEncoder = OneHotEncoder(262, sparse=True).fit(f_data)\n",
    "oneHotData = oneHotEncoder.transform(f_data)"
   ]
  },
  {
   "cell_type": "code",
   "execution_count": 9,
   "metadata": {},
   "outputs": [
    {
     "name": "stdout",
     "output_type": "stream",
     "text": [
      "[BernoulliRBM] Iteration 1, pseudo-likelihood = -64.36, time = 56.70s\n",
      "[BernoulliRBM] Iteration 2, pseudo-likelihood = -95.83, time = 55.54s\n",
      "[BernoulliRBM] Iteration 3, pseudo-likelihood = -107.29, time = 53.69s\n",
      "[BernoulliRBM] Iteration 4, pseudo-likelihood = -113.58, time = 54.82s\n",
      "[BernoulliRBM] Iteration 5, pseudo-likelihood = -121.35, time = 53.97s\n",
      "[BernoulliRBM] Iteration 6, pseudo-likelihood = -115.21, time = 56.75s\n",
      "[BernoulliRBM] Iteration 7, pseudo-likelihood = -103.52, time = 54.22s\n",
      "[BernoulliRBM] Iteration 8, pseudo-likelihood = -94.81, time = 59.88s\n",
      "[BernoulliRBM] Iteration 9, pseudo-likelihood = -123.52, time = 65.30s\n",
      "[BernoulliRBM] Iteration 10, pseudo-likelihood = -96.16, time = 61.21s\n"
     ]
    },
    {
     "data": {
      "text/plain": [
       "BernoulliRBM(batch_size=10, learning_rate=0.01, n_components=250, n_iter=10,\n",
       "       random_state=0, verbose=True)"
      ]
     },
     "execution_count": 9,
     "metadata": {},
     "output_type": "execute_result"
    }
   ],
   "source": [
    "RBM_Machine = BernoulliRBM(n_components=250, learning_rate=0.01, n_iter=10, random_state=0, verbose=True)\n",
    "RBM_Machine.fit(oneHotData)"
   ]
  },
  {
   "cell_type": "code",
   "execution_count": 68,
   "metadata": {},
   "outputs": [
    {
     "name": "stdout",
     "output_type": "stream",
     "text": [
      "[[218, 253], [0], [0], [0], [0], [0], [0], [0], [0], [0], [0], [0], [0], [0], [0], [0], [0], [0], [0], [0], [0], [0], [0], [0], [0], [234, 176], [237, 237, 200, 4, 200], [14, 237], [239, 14, 197, 197, 197], [214, 232, 240, 232, 14, 218, 176, 246, 234], [130, 106, 13], [183, 237, 245, 183], [10, 10], [198, 218, 237, 176], [239, 176, 239, 9], [254, 8, 45, 10, 254], [8, 183, 201], [31, 155, 240], [237, 198, 218, 4, 218], [13, 13, 219], [219, 219, 219], [224], [9, 202, 202, 9], [0], [246, 9], [220, 184, 248], [5, 237, 218], [218, 14, 219, 36]]\n"
     ]
    }
   ],
   "source": [
    "final_output = []\n",
    "for i in range(max_elements):\n",
    "    x_visible = RBM_Machine.gibbs(oneHotData[0])\n",
    "    x_visible = x_visible.ravel()\n",
    "    final_vector = []\n",
    "    for k in range(len(x_visible)):\n",
    "        if(x_visible[k] == True):\n",
    "            final_vector.append(1)\n",
    "        else:\n",
    "            final_vector.append(0)\n",
    "    final_Data = []\n",
    "    for i in range(48):\n",
    "        tmp = final_vector[(262*i):((i+1)*262)]\n",
    "        if(1 not in tmp):\n",
    "            index = 0\n",
    "        else:\n",
    "            index = tmp.index(1)\n",
    "        final_Data.append(index)\n",
    "    final_output.append(final_Data)\n",
    "final_output = np.asarray(final_output)\n",
    "final_data_output = []\n",
    "pos = 0\n",
    "for k in range(48):\n",
    "    t = []\n",
    "    for i in range(len(final_output)):\n",
    "        t.append(final_output[i][k])\n",
    "    final_data_output.append(t)\n",
    "final_data_output = np.asarray(final_data_output)\n",
    "output_grid = []\n",
    "for i in range(48):\n",
    "    v = final_data_output[i].tolist()\n",
    "    v_filter = list(filter((0).__ne__,v))\n",
    "    if(len(v_filter) == 0):\n",
    "        v_filter.append(0)\n",
    "    output_grid.append(v_filter)\n",
    "print(output_grid)"
   ]
  },
  {
   "cell_type": "code",
   "execution_count": 73,
   "metadata": {},
   "outputs": [],
   "source": [
    "import codecs, json \n",
    "b = output_grid\n",
    "json_file = \"output_grid.json\" \n",
    "json.dump(b, codecs.open(json_file, 'w', encoding='utf-8'), sort_keys=True, indent=4)"
   ]
  },
  {
   "cell_type": "code",
   "execution_count": 71,
   "metadata": {},
   "outputs": [
    {
     "name": "stdout",
     "output_type": "stream",
     "text": [
      "48\n"
     ]
    },
    {
     "ename": "TypeError",
     "evalue": "transformInputVector() missing 1 required positional argument: 'length'",
     "output_type": "error",
     "traceback": [
      "\u001b[1;31m---------------------------------------------------------------------------\u001b[0m",
      "\u001b[1;31mTypeError\u001b[0m                                 Traceback (most recent call last)",
      "\u001b[1;32m<ipython-input-71-c33a684837b4>\u001b[0m in \u001b[0;36m<module>\u001b[1;34m()\u001b[0m\n\u001b[0;32m      1\u001b[0m \u001b[0mmaxLength\u001b[0m \u001b[1;33m=\u001b[0m \u001b[0mgetMaxLengthForElements\u001b[0m\u001b[1;33m(\u001b[0m\u001b[0minput_data\u001b[0m\u001b[1;33m)\u001b[0m\u001b[1;33m\u001b[0m\u001b[0m\n\u001b[0;32m      2\u001b[0m \u001b[0mprint\u001b[0m\u001b[1;33m(\u001b[0m\u001b[0mmaxLength\u001b[0m\u001b[1;33m)\u001b[0m\u001b[1;33m\u001b[0m\u001b[0m\n\u001b[1;32m----> 3\u001b[1;33m \u001b[0moutput_vector\u001b[0m \u001b[1;33m=\u001b[0m \u001b[0mtransformInputVector\u001b[0m\u001b[1;33m(\u001b[0m\u001b[0minput_data\u001b[0m\u001b[1;33m,\u001b[0m\u001b[0mmaxLength\u001b[0m\u001b[1;33m)\u001b[0m\u001b[1;33m\u001b[0m\u001b[0m\n\u001b[0m\u001b[0;32m      4\u001b[0m \u001b[0moneHotEncoder\u001b[0m \u001b[1;33m=\u001b[0m \u001b[0mOneHotEncoder\u001b[0m\u001b[1;33m(\u001b[0m\u001b[1;36m262\u001b[0m\u001b[1;33m,\u001b[0m \u001b[0msparse\u001b[0m\u001b[1;33m=\u001b[0m\u001b[1;32mFalse\u001b[0m\u001b[1;33m)\u001b[0m\u001b[1;33m.\u001b[0m\u001b[0mfit\u001b[0m\u001b[1;33m(\u001b[0m\u001b[0moutput_vector\u001b[0m\u001b[1;33m)\u001b[0m\u001b[1;33m\u001b[0m\u001b[0m\n\u001b[0;32m      5\u001b[0m \u001b[0moneHotData\u001b[0m \u001b[1;33m=\u001b[0m \u001b[0moneHotEncoder\u001b[0m\u001b[1;33m.\u001b[0m\u001b[0mtransform\u001b[0m\u001b[1;33m(\u001b[0m\u001b[0moutput_vector\u001b[0m\u001b[1;33m)\u001b[0m\u001b[1;33m\u001b[0m\u001b[0m\n",
      "\u001b[1;31mTypeError\u001b[0m: transformInputVector() missing 1 required positional argument: 'length'"
     ]
    }
   ],
   "source": [
    "maxLength = getMaxLengthForElements(input_data)\n",
    "print(maxLength)\n",
    "output_vector = transformInputVector(input_data,maxLength)\n",
    "oneHotEncoder = OneHotEncoder(262, sparse=False).fit(output_vector)\n",
    "oneHotData = oneHotEncoder.transform(output_vector)\n",
    "test_Data_Vector_Aux = np.array(oneHotData, dtype=\"float64\")"
   ]
  },
  {
   "cell_type": "code",
   "execution_count": null,
   "metadata": {
    "collapsed": true
   },
   "outputs": [],
   "source": [
    "rbm_ = Rbm.RBM(visible_dim=visible_dim,\n",
    "               hidden_dim=hidden_dim,\n",
    "               seed=42,\n",
    "               mu=0, \n",
    "               sigma=0.3,\n",
    "               monitor_time=True)"
   ]
  },
  {
   "cell_type": "code",
   "execution_count": null,
   "metadata": {
    "collapsed": true
   },
   "outputs": [],
   "source": [
    "%%time\n",
    "rbm_.fit(test_Data_Vector_Aux, \n",
    "         method='vectorized_CDK',\n",
    "         K=K,\n",
    "         lr=0.01,\n",
    "         epochs=50,\n",
    "         batch_size=128,\n",
    "         plot_weights=False)"
   ]
  },
  {
   "cell_type": "code",
   "execution_count": null,
   "metadata": {
    "collapsed": true
   },
   "outputs": [],
   "source": [
    "x_hat, x_hat_p = rbm_.sample_visible_from_visible(oneHotData[random.randint(0,47)])\n",
    "final_vector = []\n",
    "for k in range(len(x_hat)):\n",
    "    if(x_hat[k] == True):\n",
    "        final_vector.append(1)\n",
    "    else:\n",
    "        final_vector.append(0)\n",
    "final_Data = []\n",
    "for i in range(48):\n",
    "    tmp = final_vector[(262*i):((i+1)*262)]\n",
    "    if(1 not in tmp):\n",
    "        index = 0\n",
    "    else:\n",
    "        index = tmp.index(1)\n",
    "    final_Data.append(index)\n",
    "print (final_Data)"
   ]
  }
 ],
 "metadata": {
  "kernelspec": {
   "display_name": "Python 3",
   "language": "python",
   "name": "python3"
  },
  "language_info": {
   "codemirror_mode": {
    "name": "ipython",
    "version": 3
   },
   "file_extension": ".py",
   "mimetype": "text/x-python",
   "name": "python",
   "nbconvert_exporter": "python",
   "pygments_lexer": "ipython3",
   "version": "3.6.1"
  }
 },
 "nbformat": 4,
 "nbformat_minor": 2
}
