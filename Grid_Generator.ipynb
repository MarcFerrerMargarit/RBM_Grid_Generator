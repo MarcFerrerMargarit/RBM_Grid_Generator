{
 "cells": [
  {
   "cell_type": "markdown",
   "metadata": {},
   "source": [
    "## PROBLEM DESCRIPTION"
   ]
  },
  {
   "cell_type": "markdown",
   "metadata": {},
   "source": [
    "The data we want to analyze is styles from a group of elements. In this case we had 4 styles so we want at least one machine for every one that it will be able to analyze the data an generate new data.\n",
    "\n",
    "So the data that we have is a set of vectors that's the output of the app that generate grids. This grids ara a composition of elements so the outuput will be a vector of id. Each grid had 48 elements and each element can have a maximum of 255 elements in it. But is not necessary to had that number, it can be possible to have less. \n",
    "\n",
    "<h4 align=\"center\">$[ x_1, x_2, x_3, ..., x_{48} ]$</h4> \n",
    "<h4 align=\"center\">$x_1 = [id_1,id_2,_id_3, ...,id_{255}]$</h4>\n",
    "\n",
    "Each element of the vector can have a different size from the others and the list of integers are the subcategories of style of the object that was placed in the grid. Each number is a different subcategory of style of the object placed previously.\n",
    "\n",
    "So the first objective is to descompose the input data, a vector which element is a vector of different size, to a list of vectors that will have de same length, 48, and one element in each position. So the main goal is to find the grid wich elements has more IDs so we can set the size of total vectors,$y$, that we need to descompose the data. In case that one element of the vector has lower IDs that the max we gonna put a $0$ as the null value for our data.\n",
    "\n",
    "<h4 align=\"center\">$input = [[id_1^1,id_2^1,_id_3^1, ...,id_{255}^1], [id_1^2,id_2^2,_id_3^2, ...,id_{255}^2], ..., [id_1^{48},id_2^{48},_id_3^{48}, ...,id_{255}^{48}]]$</h4> \n",
    "<h4 align=\"center\">$output = [[id_1^1, id_1^2,..., id_1^{48}],\n",
    "[id_2^1, id_2^2,..., id_2^{48}],..., [0,0,...,id_y^{48}]$</h4> "
   ]
  },
  {
   "cell_type": "code",
   "execution_count": 1,
   "metadata": {},
   "outputs": [],
   "source": [
    "import pandas as pd\n",
    "import json\n",
    "import sys\n",
    "import os\n",
    "import inspect\n",
    "currentdir = os.path.dirname(os.path.abspath(inspect.getfile(inspect.currentframe())))\n",
    "parent =  currentdir + '\\RBM'\n",
    "sys.path.insert(0,parent)\n",
    "%reload_ext autoreload\n",
    "%autoreload 2\n",
    "%matplotlib inline\n",
    "from timeit import default_timer as timer\n",
    "import time\n",
    "import matplotlib.pyplot as plt\n",
    "import numexpr  as ne\n",
    "import profile\n",
    "import rbm as Rbm\n",
    "import pandas\n",
    "from random import randint\n",
    "import random\n",
    "import numpy as np\n",
    "from sklearn.preprocessing import OneHotEncoder\n",
    "from sklearn.neural_network import BernoulliRBM\n",
    "import Utils"
   ]
  },
  {
   "cell_type": "markdown",
   "metadata": {
    "collapsed": true
   },
   "source": [
    "In the file *Utils.py* we have 2 two functions that allow us to transform our input data. \n",
    "\n",
    "The first one is *getMaxLengthForElements*. This functions returns a integer that specifies the max length that the vectors must have after analyzing all the input vectors.\n",
    "\n",
    "\n",
    "The second one is *transformInputVector*. This function transform the input data by transforming each vector to the maximum length and adding $0$ to the vectors who had less length than the maximum.\n",
    "\n",
    "\n",
    "Applying this 2 functions we can transform our data to be processed and converted to one hot vectors."
   ]
  },
  {
   "cell_type": "code",
   "execution_count": 3,
   "metadata": {
    "scrolled": true
   },
   "outputs": [
    {
     "name": "stdout",
     "output_type": "stream",
     "text": [
      "15\n",
      "[ 25   0   0   0   0   0   0   0   0   0   0   0   0   0   0   0   0   0\n",
      "   0   0   0   0   0   0   0  25  25  25 178  24  56  25  25  25  25  46\n",
      "  56  25  99   0  25  26  25   0   0   0  25  25]\n",
      "(6120, 48)\n"
     ]
    }
   ],
   "source": [
    "# vector_data = pd.read_json('./Data.json')\n",
    "vector_data = pd.read_json('./Transformed_Moodboards.json')\n",
    "A = vector_data.values\n",
    "data_modern = []\n",
    "A = A.ravel()\n",
    "length_vectors = len(A)\n",
    "for i in range(A.shape[0]):\n",
    "    len_v = len(A[i])\n",
    "    tmp = []\n",
    "    for j in range(len_v):\n",
    "        tmp.append(A[i][j])\n",
    "    tmp = np.asarray(tmp).ravel()\n",
    "    data_modern.append(tmp)\n",
    "data_modern = np.asarray(data_modern)\n",
    "input_data = []\n",
    "input_data.append(data_modern)\n",
    "input_data = np.asarray(input_data)\n",
    "max_elements = Utils.getMaxLengthForElements(input_data[0])\n",
    "f_data = Utils.transformInputVector(input_data[0], max_elements, length_vectors)\n",
    "\n",
    "#Multiply data for obtain more range <= 10000.\n",
    "for i in range(50):\n",
    "    for k in range((length_vectors*max_elements)):\n",
    "        f_data.append(f_data[k])\n",
    "f_data = np.asarray(f_data)\n",
    "print(max_elements)\n",
    "print(f_data[2])\n",
    "print(f_data.shape)"
   ]
  },
  {
   "cell_type": "markdown",
   "metadata": {},
   "source": [
    "At this poing we have the data formatted ready for the input for the machine. In this case we gonna use the algorithm of the library sklearn, BernoulliRBM. Also we gonna use the implementation of One Hot Vector to transform our data to One Hot Vectors.\n",
    "\n",
    "http://scikit-learn.org/stable/modules/generated/sklearn.neural_network.BernoulliRBM.html\n",
    "\n",
    "http://scikit-learn.org/stable/modules/generated/sklearn.preprocessing.OneHotEncoder.html\n",
    "\n",
    "Now the first step to get the data in the machine is to convert all the data we formatted to one hot vectors. A one hot vector is a vector which is is a group of bits among which the legal combinations of values are only those with a single high (1) bit and all the others low (0)."
   ]
  },
  {
   "cell_type": "code",
   "execution_count": 5,
   "metadata": {
    "scrolled": false
   },
   "outputs": [
    {
     "name": "stdout",
     "output_type": "stream",
     "text": [
      "OneHotEncoder(categorical_features='all', dtype=<class 'numpy.float64'>,\n",
      "       handle_unknown='error', n_values=262, sparse=False)\n",
      "(6120, 12576)\n",
      "Wall time: 341 ms\n"
     ]
    }
   ],
   "source": [
    "%%time\n",
    "oneHotEncoder = OneHotEncoder(262, sparse=False).fit(f_data)\n",
    "oneHotData = oneHotEncoder.transform(f_data)\n",
    "print(oneHotEncoder)\n",
    "print(oneHotData.shape)"
   ]
  },
  {
   "cell_type": "code",
   "execution_count": 6,
   "metadata": {
    "scrolled": true
   },
   "outputs": [
    {
     "name": "stdout",
     "output_type": "stream",
     "text": [
      "OneHotEncoder(categorical_features='all', dtype=<class 'numpy.float64'>,\n",
      "       handle_unknown='error', n_values=262, sparse=True)\n",
      "(6120, 12576)\n",
      "Wall time: 59.8 ms\n"
     ]
    }
   ],
   "source": [
    "%%time\n",
    "oneHotEncoder = OneHotEncoder(262, sparse=True).fit(f_data)\n",
    "oneHotData = oneHotEncoder.transform(f_data)\n",
    "print(oneHotEncoder)\n",
    "print(oneHotData.shape)"
   ]
  },
  {
   "cell_type": "markdown",
   "metadata": {},
   "source": [
    "At this point we have 3 hot vectors which one represents the previous input data. This is a sparse matrix so is fastest to work than a simple vector and it's easy to show the results.\n",
    "Then we neeed to define the parameters of the machine and fit it with de one hot vectors we had. The parameters are not specified, so we need to try whichc are the best to obtain good results\n"
   ]
  },
  {
   "cell_type": "code",
   "execution_count": 8,
   "metadata": {},
   "outputs": [
    {
     "name": "stdout",
     "output_type": "stream",
     "text": [
      "BernoulliRBM(batch_size=10, learning_rate=0.01, n_components=262, n_iter=20,\n",
      "       random_state=0, verbose=True)\n"
     ]
    }
   ],
   "source": [
    "RBM_Machine = BernoulliRBM(n_components=262, learning_rate=0.01, n_iter=20, random_state=0, verbose=True)\n",
    "print(RBM_Machine)"
   ]
  },
  {
   "cell_type": "code",
   "execution_count": 4,
   "metadata": {
    "scrolled": true
   },
   "outputs": [
    {
     "name": "stdout",
     "output_type": "stream",
     "text": [
      "[BernoulliRBM] Iteration 1, pseudo-likelihood = -1018.87, time = 53.73s\n",
      "[BernoulliRBM] Iteration 2, pseudo-likelihood = -78.52, time = 57.54s\n",
      "[BernoulliRBM] Iteration 3, pseudo-likelihood = -80.80, time = 60.48s\n",
      "[BernoulliRBM] Iteration 4, pseudo-likelihood = -74.14, time = 55.01s\n",
      "[BernoulliRBM] Iteration 5, pseudo-likelihood = -77.79, time = 52.40s\n",
      "[BernoulliRBM] Iteration 6, pseudo-likelihood = -75.31, time = 53.13s\n",
      "[BernoulliRBM] Iteration 7, pseudo-likelihood = -74.91, time = 52.39s\n",
      "[BernoulliRBM] Iteration 8, pseudo-likelihood = -77.24, time = 52.09s\n",
      "[BernoulliRBM] Iteration 9, pseudo-likelihood = -75.42, time = 52.31s\n",
      "[BernoulliRBM] Iteration 10, pseudo-likelihood = -75.18, time = 56.31s\n",
      "[BernoulliRBM] Iteration 11, pseudo-likelihood = -81.44, time = 61.02s\n",
      "[BernoulliRBM] Iteration 12, pseudo-likelihood = -73.93, time = 55.00s\n",
      "[BernoulliRBM] Iteration 13, pseudo-likelihood = -71.03, time = 66.80s\n",
      "[BernoulliRBM] Iteration 14, pseudo-likelihood = -79.37, time = 61.06s\n",
      "[BernoulliRBM] Iteration 15, pseudo-likelihood = -76.83, time = 62.95s\n",
      "[BernoulliRBM] Iteration 16, pseudo-likelihood = -73.65, time = 60.16s\n",
      "[BernoulliRBM] Iteration 17, pseudo-likelihood = -76.19, time = 66.38s\n",
      "[BernoulliRBM] Iteration 18, pseudo-likelihood = -76.36, time = 64.10s\n",
      "[BernoulliRBM] Iteration 19, pseudo-likelihood = -73.28, time = 61.93s\n",
      "[BernoulliRBM] Iteration 20, pseudo-likelihood = -75.75, time = 57.33s\n",
      "Wall time: 19min 22s\n"
     ]
    }
   ],
   "source": [
    "%%time\n",
    "RBM_Machine = BernoulliRBM(n_components=262, learning_rate=0.01, n_iter=20, random_state=0, verbose=True)\n",
    "# RBM_Machine = BernoulliRBM(n_components=262, learning_rate=0.01,batch_size=64, n_iter=20, random_state=0, verbose=True)\n",
    "RBM_Machine.fit(oneHotData)"
   ]
  },
  {
   "cell_type": "markdown",
   "metadata": {},
   "source": [
    "Now we gonna save the RBM and one hot data so we can use it later."
   ]
  },
  {
   "cell_type": "code",
   "execution_count": 5,
   "metadata": {
    "collapsed": true
   },
   "outputs": [],
   "source": [
    "import pickle\n",
    "\n",
    "filename = 'RBM.pickle'\n",
    "pickle.dump(RBM_Machine, open(filename, 'wb'))\n",
    "pickle_out = open(\"OneHotData.pickle\",\"wb\")\n",
    "pickle.dump(oneHotData, pickle_out)\n",
    "pickle_out.close()"
   ]
  },
  {
   "cell_type": "markdown",
   "metadata": {},
   "source": [
    "Finally we got the output. We gonna make as much as the maximum length of samples. Then we gonna format this data and save it to a json in our folder."
   ]
  },
  {
   "cell_type": "code",
   "execution_count": 6,
   "metadata": {
    "collapsed": true
   },
   "outputs": [],
   "source": [
    "output_grid = Utils.generateGrid(1)"
   ]
  },
  {
   "cell_type": "code",
   "execution_count": 7,
   "metadata": {},
   "outputs": [
    {
     "name": "stdout",
     "output_type": "stream",
     "text": [
      "[[[4, 5, 8, 24, 26, 79, 91, 97], [0], [0], [0], [0], [0], [0], [0], [0], [0], [0], [0], [0], [0], [0], [0], [0], [0], [0], [0], [0], [0], [0], [0], [0], [5, 24, 42, 88, 140, 178], [2, 24, 25, 138, 178, 239], [40, 56, 84], [39], [5, 24, 25, 27, 46, 51, 56, 88, 178, 234], [4, 154, 155], [178], [24, 46, 178], [5, 24, 247], [9, 178, 220], [9, 17, 223], [46, 218, 223], [5, 10, 233], [5, 24, 97], [25], [3, 25, 212, 223, 233], [17, 24, 25, 27, 233], [12, 14, 22, 23, 24, 239], [5], [5, 241], [241], [25], [53, 98]]]\n"
     ]
    }
   ],
   "source": [
    "print(output_grid)"
   ]
  },
  {
   "cell_type": "code",
   "execution_count": null,
   "metadata": {
    "collapsed": true
   },
   "outputs": [],
   "source": [
    "# import codecs, json \n",
    "# b = final_output_grid\n",
    "# json_file = \"./output_grid.json\" \n",
    "# json.dump(b, codecs.open(json_file, 'w', encoding='utf-8'), sort_keys=True, indent=4)"
   ]
  },
  {
   "cell_type": "markdown",
   "metadata": {},
   "source": [
    "## OTHER IMPLEMENTATION"
   ]
  },
  {
   "cell_type": "code",
   "execution_count": null,
   "metadata": {
    "collapsed": true
   },
   "outputs": [],
   "source": [
    "oneHotEncoder = OneHotEncoder(262, sparse=False).fit(f_data)\n",
    "oneHotData = oneHotEncoder.transform(f_data)\n",
    "test_Data_Vector_Aux = np.array(oneHotData, dtype=\"float64\")"
   ]
  },
  {
   "cell_type": "code",
   "execution_count": null,
   "metadata": {
    "collapsed": true
   },
   "outputs": [],
   "source": [
    "visible_dim = oneHotData.shape[1]\n",
    "hidden_dim = 500\n",
    "epochs = 100\n",
    "K = 1\n",
    "lr = 0.1\n",
    "batch_size = 10"
   ]
  },
  {
   "cell_type": "code",
   "execution_count": null,
   "metadata": {
    "collapsed": true
   },
   "outputs": [],
   "source": [
    "rbm_ = Rbm.RBM(visible_dim=visible_dim,\n",
    "               hidden_dim=hidden_dim,\n",
    "               seed=42,\n",
    "               mu=0, \n",
    "               sigma=0.3,\n",
    "               monitor_time=True)"
   ]
  },
  {
   "cell_type": "code",
   "execution_count": null,
   "metadata": {
    "collapsed": true
   },
   "outputs": [],
   "source": [
    "%%time\n",
    "rbm_.fit(test_Data_Vector_Aux, \n",
    "         method='vectorized_CDK',\n",
    "         K=1,\n",
    "         lr=0.01,\n",
    "         epochs=20,\n",
    "         batch_size=64,\n",
    "         plot_weights=False)"
   ]
  },
  {
   "cell_type": "code",
   "execution_count": null,
   "metadata": {
    "collapsed": true
   },
   "outputs": [],
   "source": [
    "final_output = []\n",
    "for i in range(100):\n",
    "    x_visible, x_h = rbm_.sample_visible_from_visible(oneHotData[random.randint(0,oneHotData.shape[0])])\n",
    "    x_visible = x_visible.ravel()\n",
    "    final_vector = []\n",
    "    for k in range(len(x_visible)):\n",
    "        if(x_visible[k] == True):\n",
    "            final_vector.append(1)\n",
    "        else:\n",
    "            final_vector.append(0)\n",
    "    final_Data = []\n",
    "    for i in range(48):\n",
    "        tmp = final_vector[(262*i):((i+1)*262)]\n",
    "        if(1 not in tmp):\n",
    "            index = 0\n",
    "        else:\n",
    "            index = tmp.index(1)\n",
    "        final_Data.append(index)\n",
    "    final_output.append(final_Data)\n",
    "final_output = np.asarray(final_output)\n",
    "final_data_output = []\n",
    "for k in range(48):\n",
    "    t = []\n",
    "    for i in range(len(final_output)):\n",
    "        t.append(final_output[i][k])\n",
    "    final_data_output.append(t)\n",
    "final_data_output = np.asarray(final_data_output)\n",
    "output_grid = []\n",
    "for i in range(48):\n",
    "    v = final_data_output[i].tolist()\n",
    "    v_filter = list(filter((0).__ne__,v))\n",
    "    if(len(v_filter) == 0):\n",
    "        v_filter.append(0)\n",
    "    output_grid.append(v_filter)\n",
    "print(output_grid)"
   ]
  },
  {
   "cell_type": "code",
   "execution_count": null,
   "metadata": {
    "collapsed": true
   },
   "outputs": [],
   "source": [
    "final_output_grid = Utils.cleaningOutput(output_grid)\n",
    "print(final_output_grid)"
   ]
  },
  {
   "cell_type": "code",
   "execution_count": null,
   "metadata": {
    "collapsed": true
   },
   "outputs": [],
   "source": [
    "b = output_grid\n",
    "json_file = \"./output_grid_2.json\" \n",
    "json.dump(b, codecs.open(json_file, 'w', encoding='utf-8'), sort_keys=True, indent=4)"
   ]
  },
  {
   "cell_type": "markdown",
   "metadata": {},
   "source": [
    "###  Evaluation Quantitativa\n",
    "\n",
    "Evaluar models generatius és en general molt complicat.\n",
    "\n",
    "Per a decidir que el nostre sistema ¨va bé¨ (va millor que generar coses aleatoriament). S´ha decidit generar\n",
    "\n",
    "- 25 dades amb la RBM. \n",
    "- 25 dades aleatories.\n",
    "\n",
    "Donem les graelles al expert i li preguntem quines son bones i quines no. Contem quantes \"de les bones\" corresponnen amb les generades per la RBM.\n",
    "\n",
    "#### Evaluacio custom\n",
    "\n",
    "Podriem mirar de les graelles generades si els objectes son de color similar.\n",
    "\n",
    "###  Evaluation Qualitativa\n",
    "\n",
    "Posar en el document les graelles generades per la RBM, alguna graella random i alguna graella original. Explicar quins aspectes son bons i quins dolents de les graelles generades. Per exemple, demanar al expert que, de les graelles RBM generades quines coses 'no li agraden'.\n",
    "\n",
    "### Posar imatge de la eina\n",
    "\n",
    "Interficie grafica de la imatge.\n",
    "\n",
    "- Que ap\n",
    "orta la eina\n",
    "- Temps que triguen els humans a generar una graella amb photoshop\n",
    "- Temps que triguen els humans a generar una graella amb eina\n",
    "- Temps que triguen els humans a generar una graella amb RBM\n",
    "    - Podries vendre-ho com una \"help tool\" que a un disenyador li genera 25 graelles i ell sols ha de triar\n",
    "      quina li agrada més. I si vol variar alguna cosa de la graella.\n",
    "    \n"
   ]
  },
  {
   "cell_type": "code",
   "execution_count": null,
   "metadata": {
    "collapsed": true
   },
   "outputs": [],
   "source": []
  }
 ],
 "metadata": {
  "kernelspec": {
   "display_name": "Python 3",
   "language": "python",
   "name": "python3"
  },
  "language_info": {
   "codemirror_mode": {
    "name": "ipython",
    "version": 3
   },
   "file_extension": ".py",
   "mimetype": "text/x-python",
   "name": "python",
   "nbconvert_exporter": "python",
   "pygments_lexer": "ipython3",
   "version": "3.6.4"
  }
 },
 "nbformat": 4,
 "nbformat_minor": 2
}
